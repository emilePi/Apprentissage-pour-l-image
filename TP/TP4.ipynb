{
  "cells": [
    {
      "cell_type": "markdown",
      "source": [
        "# TP4"
      ],
      "metadata": {
        "id": "Q6BfoslGdGug"
      }
    },
    {
      "cell_type": "code",
      "execution_count": null,
      "metadata": {
        "id": "5SDsVwmAc_au"
      },
      "outputs": [],
      "source": [
        "%matplotlib inline"
      ]
    },
    {
      "cell_type": "markdown",
      "metadata": {
        "id": "e823qpntc_av"
      },
      "source": [
        "\n",
        "# Training a Classifier\n",
        "\n",
        "This is it. You have seen how to define neural networks, compute loss and make\n",
        "updates to the weights of the network.\n",
        "\n",
        "\n",
        "## What about data?\n",
        "\n",
        "Generally, when you have to deal with image, text, audio or video data,\n",
        "you can use standard python packages that load data into a numpy array.\n",
        "Then you can convert this array into a ``torch.*Tensor``.\n",
        "\n",
        "-  For images, packages such as Pillow, OpenCV are useful\n",
        "-  For audio, packages such as scipy and librosa\n",
        "-  For text, either raw Python or Cython based loading, or NLTK and\n",
        "   SpaCy are useful\n",
        "\n",
        "Specifically for vision, we have created a package called\n",
        "``torchvision``, that has data loaders for common datasets such as\n",
        "ImageNet, CIFAR10, MNIST, etc. and data transformers for images, viz.,\n",
        "``torchvision.datasets`` and ``torch.utils.data.DataLoader``.\n",
        "\n",
        "This provides a huge convenience.\n",
        "\n",
        "For this tutorial, we will use the CIFAR10 dataset.\n",
        "See examples at the [link](https://www.cs.toronto.edu/~kriz/cifar.html) \n",
        "\n",
        "\n",
        "## Training an image classifier\n",
        "\n",
        "We will do the following steps in order:\n",
        "\n",
        "1. Load and normalize the CIFAR10 training and test datasets using\n",
        "   ``torchvision``\n",
        "2. Define a Convolutional Neural Network\n",
        "3. Define a loss function\n",
        "4. Train the network on the training data\n",
        "5. Test the network on the test data\n"
      ]
    },
    {
      "cell_type": "markdown",
      "source": [
        "### 1. Load and normalize CIFAR10\n",
        "\n",
        "Using ``torchvision``, it’s extremely easy to load CIFAR10.\n"
      ],
      "metadata": {
        "id": "3EHRVyLstZYZ"
      }
    },
    {
      "cell_type": "code",
      "execution_count": null,
      "metadata": {
        "id": "1CRT7stTc_aw"
      },
      "outputs": [],
      "source": [
        "import torch\n",
        "import torchvision\n",
        "import torchvision.transforms as transforms"
      ]
    },
    {
      "cell_type": "markdown",
      "metadata": {
        "id": "ZFwmjHj2c_aw"
      },
      "source": [
        "The output of torchvision datasets are PILImage images of range [0, 1].\n",
        "We transform them to Tensors of normalized range [-1, 1].\n",
        "\n"
      ]
    },
    {
      "cell_type": "markdown",
      "metadata": {
        "id": "XUNxPal3c_ax"
      },
      "source": [
        "<div class=\"alert alert-info\"><h4>Note</h4><p>If running on Windows and you get a BrokenPipeError, try setting\n",
        "    the num_worker of torch.utils.data.DataLoader() to 0.</p></div>\n",
        "\n"
      ]
    },
    {
      "cell_type": "code",
      "execution_count": null,
      "metadata": {
        "id": "i1nczoMcc_ax"
      },
      "outputs": [],
      "source": [
        "transform = transforms.Compose(\n",
        "    [transforms.ToTensor(),\n",
        "     transforms.Normalize((0.5, 0.5, 0.5), (0.5, 0.5, 0.5))])\n",
        "\n",
        "batch_size = 4\n",
        "\n",
        "trainset = torchvision.datasets.CIFAR10(root='./data', train=True,\n",
        "                                        download=True, transform=transform)\n",
        "trainloader = torch.utils.data.DataLoader(trainset, batch_size=batch_size,\n",
        "                                          shuffle=True, num_workers=2)\n",
        "\n",
        "testset = torchvision.datasets.CIFAR10(root='./data', train=False,\n",
        "                                       download=True, transform=transform)\n",
        "testloader = torch.utils.data.DataLoader(testset, batch_size=batch_size,\n",
        "                                         shuffle=False, num_workers=2)"
      ]
    },
    {
      "cell_type": "markdown",
      "source": [
        "trainloader and testloader will allow us to sample batches of the data."
      ],
      "metadata": {
        "id": "St222F-JSY7p"
      }
    },
    {
      "cell_type": "markdown",
      "source": [
        " <font color='blue'> **Question** : What are the classes of the dataset ? ([link](https://www.cs.toronto.edu/~kriz/cifar.html)) </font>\n",
        "\n",
        "  <font color='blue'> **Question** : How many images are in the training set ? </font>\n",
        "  \n",
        "  <font color='blue'> **Question** : How many images are in the test set ? </font>"
      ],
      "metadata": {
        "id": "8Bxd8HZxuex1"
      }
    },
    {
      "cell_type": "markdown",
      "metadata": {
        "id": "oCyq52E-c_ax"
      },
      "source": [
        "Let us show some of the training images, for fun.\n",
        "\n"
      ]
    },
    {
      "cell_type": "code",
      "execution_count": null,
      "metadata": {
        "id": "OViYagGMc_ax"
      },
      "outputs": [],
      "source": [
        "import matplotlib.pyplot as plt\n",
        "import numpy as np\n",
        "\n",
        "# functions to show an image\n",
        "\n",
        "\n",
        "def imshow(img):\n",
        "    img = img / 2 + 0.5     # unnormalize\n",
        "    npimg = img.numpy()\n",
        "    plt.imshow(np.transpose(npimg, (1, 2, 0)))\n",
        "    plt.show()\n",
        "\n",
        "\n",
        "# get some random training images\n",
        "dataiter = iter(trainloader)\n",
        "images, labels = next(dataiter)\n",
        "\n",
        "# show images\n",
        "imshow(torchvision.utils.make_grid(images))\n",
        "# print labels\n",
        "classes = ('plane', 'car', 'bird', 'cat',\n",
        "           'deer', 'dog', 'frog', 'horse', 'ship', 'truck')\n",
        "print(' '.join(f'{classes[labels[j]]:5s}' for j in range(batch_size)))"
      ]
    },
    {
      "cell_type": "code",
      "source": [
        "images.shape"
      ],
      "metadata": {
        "id": "SK8qI7oUYTbD"
      },
      "execution_count": null,
      "outputs": []
    },
    {
      "cell_type": "markdown",
      "metadata": {
        "id": "Wjq1Pm_tc_ax"
      },
      "source": [
        "### 2. Define a Convolutional Neural Network\n",
        "\n"
      ]
    },
    {
      "cell_type": "markdown",
      "source": [
        " <font color='blue'> **Question** : Complete the next cell. </font>\n",
        "\n"
      ],
      "metadata": {
        "id": "IVO7HGN-DsoH"
      }
    },
    {
      "cell_type": "code",
      "execution_count": null,
      "metadata": {
        "id": "sms1esepc_ay"
      },
      "outputs": [],
      "source": [
        "import torch.nn as nn\n",
        "import torch.nn.functional as F\n",
        "\n",
        "\n",
        "class Net(nn.Module):\n",
        "    def __init__(self):\n",
        "        super().__init__()\n",
        "        self.conv1 = nn.Conv2d(3, 6, 5)\n",
        "        self.conv2 = nn.Conv2d(6, 16, 5)\n",
        "        self.fc1 = nn.Linear(__, 120) #TODO\n",
        "        self.fc2 = nn.Linear(120, 84)\n",
        "        self.fc3 = nn.Linear(84, __) #TODO\n",
        "\n",
        "    def forward(self, x):\n",
        "        x = F.max_pool2d(F.relu(self.conv1(x)), 2)\n",
        "        x = F.max_pool2d(F.relu(self.conv2(x)), 2)\n",
        "        x = torch.flatten(x, 1)\n",
        "        x = F.relu(self.fc1(x))\n",
        "        x = F.relu(self.fc2(x))\n",
        "        x = self.fc3(x)\n",
        "        return x\n",
        "\n",
        "\n",
        "net = Net()"
      ]
    },
    {
      "cell_type": "markdown",
      "metadata": {
        "id": "KaEdNBUEc_ay"
      },
      "source": [
        "### 3. Define a Loss function and optimizer\n",
        "Let's use a Classification Cross-Entropy loss and SGD with momentum.\n",
        "\n"
      ]
    },
    {
      "cell_type": "code",
      "execution_count": null,
      "metadata": {
        "id": "WYIPeA_fc_ay"
      },
      "outputs": [],
      "source": [
        "import torch.optim as optim\n",
        "\n",
        "criterion = nn.CrossEntropyLoss()\n",
        "optimizer = optim.SGD(net.parameters(), lr=0.001, momentum=0.9)"
      ]
    },
    {
      "cell_type": "markdown",
      "metadata": {
        "id": "DsESdHFYc_az"
      },
      "source": [
        "### 4. Train the network\n",
        "\n",
        "This is when things start to get interesting.\n",
        "We simply have to loop over our data iterator, and feed the inputs to the\n",
        "network and optimize.\n",
        "\n"
      ]
    },
    {
      "cell_type": "code",
      "execution_count": null,
      "metadata": {
        "id": "sz8yHrEec_az"
      },
      "outputs": [],
      "source": [
        "for epoch in range(2):  # loop over the dataset multiple times\n",
        "\n",
        "    running_loss = 0.0\n",
        "    for i, data in enumerate(trainloader, 0):\n",
        "        # get the inputs; data is a list of [inputs, labels]\n",
        "        inputs, labels = data\n",
        "\n",
        "        # zero the parameter gradients\n",
        "        optimizer.zero_grad()\n",
        "\n",
        "        # forward + backward + optimize\n",
        "        outputs = net(inputs)\n",
        "        loss = criterion(outputs, labels)\n",
        "        loss.backward()\n",
        "        optimizer.step()\n",
        "\n",
        "        # print statistics\n",
        "        running_loss += loss.item()\n",
        "        if i % 2000 == 1999:    # print every 2000 mini-batches\n",
        "            print(f'[{epoch + 1}, {i + 1:5d}] loss: {running_loss / 2000:.3f}')\n",
        "            running_loss = 0.0\n",
        "\n",
        "print('Finished Training')"
      ]
    },
    {
      "cell_type": "markdown",
      "metadata": {
        "id": "XFJRjPFOc_az"
      },
      "source": [
        "Let's quickly save our trained model:\n",
        "\n"
      ]
    },
    {
      "cell_type": "code",
      "execution_count": null,
      "metadata": {
        "id": "p5HaG97Yc_az"
      },
      "outputs": [],
      "source": [
        "PATH = './cifar_net.pth'\n",
        "torch.save(net.state_dict(), PATH)"
      ]
    },
    {
      "cell_type": "markdown",
      "source": [
        " <font color='blue'> **Question** : Do you understand what is done the previous cell ? </font>"
      ],
      "metadata": {
        "id": "4LPu7V86t_Mi"
      }
    },
    {
      "cell_type": "markdown",
      "metadata": {
        "id": "GsCjLkUic_az"
      },
      "source": [
        "See [here](https://pytorch.org/docs/stable/notes/serialization.html)\n",
        "for more details on saving PyTorch models.\n",
        "\n",
        "### 5. Test the network on the test data\n",
        "\n",
        "We have trained the network for 2 passes over the training dataset.\n",
        "But we need to check if the network has learnt anything at all.\n",
        "\n",
        "We will check this by predicting the class label that the neural network\n",
        "outputs, and checking it against the ground-truth. If the prediction is\n",
        "correct, we add the sample to the list of correct predictions.\n",
        "\n",
        "Okay, first step. Let us display an image from the test set to get familiar.\n",
        "\n"
      ]
    },
    {
      "cell_type": "code",
      "execution_count": null,
      "metadata": {
        "id": "7hSRatv3c_a0"
      },
      "outputs": [],
      "source": [
        "dataiter = iter(testloader)\n",
        "images, labels = next(dataiter)"
      ]
    },
    {
      "cell_type": "markdown",
      "metadata": {
        "id": "cnrGRYgqc_a0"
      },
      "source": [
        "Next, let's load back in our saved model (note: saving and re-loading the model\n",
        "wasn't necessary here, we only did it to illustrate how to do so):\n",
        "\n"
      ]
    },
    {
      "cell_type": "code",
      "execution_count": null,
      "metadata": {
        "id": "pcAvphgHc_a0"
      },
      "outputs": [],
      "source": [
        "net = Net()\n",
        "net.load_state_dict(torch.load(PATH))"
      ]
    },
    {
      "cell_type": "markdown",
      "metadata": {
        "id": "Itm8j58zc_a0"
      },
      "source": [
        "Okay, now let us see what the neural network thinks these examples above are:\n",
        "\n"
      ]
    },
    {
      "cell_type": "code",
      "execution_count": null,
      "metadata": {
        "id": "qrVRrHdOc_a0"
      },
      "outputs": [],
      "source": [
        "outputs = net(images)\n",
        "print(outputs)"
      ]
    },
    {
      "cell_type": "markdown",
      "source": [
        " <font color='blue'> **Question** : What are the probabilities of the first image of 'images' to be in each class ? </font>"
      ],
      "metadata": {
        "id": "y4-r3vOzEHso"
      }
    },
    {
      "cell_type": "markdown",
      "metadata": {
        "id": "UW6nJgvdc_a0"
      },
      "source": [
        "The outputs are energies for the 10 classes.\n",
        "The higher the energy for a class, the more the network\n",
        "thinks that the image is of the particular class.\n",
        "So, let's get the index of the highest energy:\n",
        "\n"
      ]
    },
    {
      "cell_type": "code",
      "execution_count": null,
      "metadata": {
        "id": "lE6vZhR4c_a0"
      },
      "outputs": [],
      "source": [
        "_, predicted = torch.max(outputs, 1)\n",
        "\n",
        "# print images\n",
        "imshow(torchvision.utils.make_grid(images))\n",
        "print('GroundTruth: ', ' '.join(f'{classes[labels[j]]:5s}' for j in range(4)))\n",
        "print('Predicted: ', ' '.join(f'{classes[predicted[j]]:5s}'\n",
        "                              for j in range(4)))"
      ]
    },
    {
      "cell_type": "markdown",
      "metadata": {
        "id": "nQiUexdjc_a1"
      },
      "source": [
        "Let observe the confusion matrix."
      ]
    },
    {
      "cell_type": "markdown",
      "source": [
        " <font color='blue'> **Question** : What is done in the next cell ? </font>"
      ],
      "metadata": {
        "id": "QtDU-3emNVjn"
      }
    },
    {
      "cell_type": "code",
      "execution_count": null,
      "metadata": {
        "id": "Vb2EPeWPc_a1"
      },
      "outputs": [],
      "source": [
        "all_labels = torch.tensor([])\n",
        "all_predicted = torch.tensor([])\n",
        "with torch.no_grad():\n",
        "    for data in testloader:\n",
        "        images, labels = data\n",
        "        outputs = net(images)        \n",
        "        _, predicted = torch.max(outputs.data, 1)\n",
        "\n",
        "        all_labels = torch.cat((all_labels, labels))\n",
        "        all_predicted = torch.cat((all_predicted, predicted)) \n"
      ]
    },
    {
      "cell_type": "markdown",
      "source": [
        " <font color='blue'> **Question** : Complete the next cell. </font>"
      ],
      "metadata": {
        "id": "C0BIABu9N6QZ"
      }
    },
    {
      "cell_type": "code",
      "source": [
        "from sklearn.metrics import classification_report\n",
        "from sklearn.metrics import confusion_matrix, ConfusionMatrixDisplay\n",
        "\n",
        "t_test = #TODO\n",
        "t_pred = #TODO\n",
        "\n",
        "\n",
        "#Classification report\n",
        "print(classification_report(t_test,t_pred,target_names = classes))\n",
        "\n",
        "#Confusion matrix\n",
        "cm = confusion_matrix(t_test,t_pred)\n",
        "disp = ConfusionMatrixDisplay(confusion_matrix=cm,display_labels = classes)\n",
        "disp.plot()"
      ],
      "metadata": {
        "id": "AfIVT8qyNbNs"
      },
      "execution_count": null,
      "outputs": []
    },
    {
      "cell_type": "markdown",
      "source": [
        "#  <font color='blue'> Exercise </font>"
      ],
      "metadata": {
        "id": "RpDYds3tceST"
      }
    },
    {
      "cell_type": "code",
      "source": [
        "import numpy as np\n",
        "import matplotlib.pyplot as plt\n",
        "from matplotlib.colors import ListedColormap\n",
        "from sklearn.datasets import make_moons, make_circles, make_classification, make_blobs, make_gaussian_quantiles\n",
        "from sklearn import metrics\n",
        "from sklearn.model_selection import train_test_split\n",
        "from sklearn.preprocessing import StandardScaler\n",
        "from IPython.display import display, clear_output\n",
        "import torch"
      ],
      "metadata": {
        "id": "QivrfWQDZpAt"
      },
      "execution_count": null,
      "outputs": []
    },
    {
      "cell_type": "markdown",
      "source": [
        "Pour une tâche de classification, nous avons besoin :\n",
        "\n",
        "- d'un ensemble de données divisé en test et entraînement \n",
        "- d'une architecture de réseau \n",
        "- d'un coût à minimiser\n",
        "- Ensuite, il y a une phase d'entraînement  \n",
        "- Enfin, il y a une phase de test"
      ],
      "metadata": {
        "id": "na08ssA5ci8y"
      }
    },
    {
      "cell_type": "markdown",
      "source": [
        "Le traitement des données est fait ci-dessous :     "
      ],
      "metadata": {
        "id": "OsTs26aj50gn"
      }
    },
    {
      "cell_type": "code",
      "source": [
        "n_class = 3\n",
        "from torch.utils.data import TensorDataset, DataLoader\n",
        "# Three examples of synthetic 2D datasets:\n",
        "X, t = make_blobs(n_features=2, centers = n_class,n_samples=100) \n",
        "X, t = make_classification(n_features=2, n_redundant=0, n_informative=2, random_state=24, n_classes=n_class, n_clusters_per_class=1,n_samples=200)\n",
        "X, t = make_gaussian_quantiles(n_features=2, n_classes=n_class, n_samples=500)\n",
        "\n",
        "X = StandardScaler().fit_transform(X)\n",
        "\n",
        "X_train, X_test, t_train, t_test = train_test_split(X, t, test_size=.4, random_state=12)\n",
        "\n",
        "# Number of points in each set:\n",
        "N_train = X_train.shape[0]\n",
        "N_test = X_test.shape[0]\n",
        "\n",
        "figure = plt.figure(figsize=(10, 10))\n",
        "plt.scatter(X_train[:, 0], X_train[:, 1], marker='o', c=t_train, s=50, edgecolor='k')\n",
        "plt.scatter(X_test[:, 0], X_test[:, 1], marker='P', c=t_test, s=50, edgecolor='k');\n",
        "plt.show()\n",
        "\n",
        "#Conversion of the numpy in tensors\n",
        "X_train, X_test, t_train, t_test = torch.tensor(X_train, dtype=torch.float32), torch.tensor(X_test, dtype=torch.float32), torch.tensor(t_train, dtype=torch.int64), torch.tensor(t_test, dtype=torch.int64)\n",
        "\n",
        "train_dataset = TensorDataset(X_train,t_train) # create your datset\n",
        "trainloader = DataLoader(train_dataset) # create your dataloader\n",
        "\n",
        "test_dataset = TensorDataset(X_test,t_test) # create your datset\n",
        "testloader = DataLoader(test_dataset) # create your dataloader"
      ],
      "metadata": {
        "id": "YNraF_AIfmy3"
      },
      "execution_count": null,
      "outputs": []
    },
    {
      "cell_type": "markdown",
      "source": [
        "## Architecture du réseau"
      ],
      "metadata": {
        "id": "5yiT_IFf6D2U"
      }
    },
    {
      "cell_type": "markdown",
      "source": [
        "L'architecture du réseau est la suivante :     \n",
        "- Une couche linéaire avec une taille de sortie $d$, suivie d'une activation Relu\n",
        "- Une couche linéaire permettant la classification avec une taille de sortie permettant la classification (ie ayant le nombre de classes en taille de sortie)"
      ],
      "metadata": {
        "id": "4qpuyn_P6HOi"
      }
    },
    {
      "cell_type": "markdown",
      "source": [
        "  <font color='blue'> Construire le réseau dans la cellule ci-dessous. </font>"
      ],
      "metadata": {
        "id": "euv0apn26jTs"
      }
    },
    {
      "cell_type": "code",
      "source": [
        "import torch.nn as nn\n",
        "import torch.nn.functional as F\n",
        "\n",
        "d = 4\n",
        "\n"
      ],
      "metadata": {
        "id": "w-_nN9s1fow8"
      },
      "execution_count": null,
      "outputs": []
    },
    {
      "cell_type": "markdown",
      "source": [
        "## Le coût"
      ],
      "metadata": {
        "id": "20CkJFow6uGj"
      }
    },
    {
      "cell_type": "markdown",
      "source": [
        "Le coût utilisé est le coût habituel. \n",
        "\n",
        "  <font color='blue'> Définir le coût dans la cellule ci-dessous. </font>"
      ],
      "metadata": {
        "id": "-x8IObHzUa-n"
      }
    },
    {
      "cell_type": "code",
      "source": [
        "import torch.optim as optim"
      ],
      "metadata": {
        "id": "cKJVqjHIfqtK"
      },
      "execution_count": null,
      "outputs": []
    },
    {
      "cell_type": "markdown",
      "source": [
        "## Phase d'entraînement"
      ],
      "metadata": {
        "id": "wOjyRM3A68Hn"
      }
    },
    {
      "cell_type": "markdown",
      "source": [
        "   On utilisera un SGD avec lr = 0.001 et un moment 0.9. De plus, l'entraînement sera mené sur 100 époques.\n",
        "   \n",
        "  <font color='blue'> Mettre en oeuvre l'entraînement ci-dessous. </font>"
      ],
      "metadata": {
        "id": "Z23Aq72o7Ajs"
      }
    },
    {
      "cell_type": "code",
      "source": [
        "import torch.optim as optim"
      ],
      "metadata": {
        "id": "LxNknh0Xf1zA"
      },
      "execution_count": null,
      "outputs": []
    },
    {
      "cell_type": "markdown",
      "source": [
        "## Visualisation des résultats"
      ],
      "metadata": {
        "id": "MwLp3bYy7aMp"
      }
    },
    {
      "cell_type": "markdown",
      "source": [
        "En 2D, on peut afficher la classification effectué par le réseau, comme dans le TP1"
      ],
      "metadata": {
        "id": "5IVOt5K87cv3"
      }
    },
    {
      "cell_type": "code",
      "source": [
        "#visualize results:\n",
        "\n",
        "x_min, x_max = X[:, 0].min() - .5, X[:, 0].max() + .5\n",
        "y_min, y_max = X[:, 1].min() - .5, X[:, 1].max() + .5\n",
        "h = 0.02\n",
        "xx, yy = np.meshgrid(np.arange(x_min, x_max, h),\n",
        "                        np.arange(y_min, y_max, h))\n",
        "X_grid = np.hstack((xx.ravel(), yy.ravel()))\n",
        "\n",
        "N_grid = xx.ravel().shape[0]\n",
        "X_grid = np.c_[xx.ravel(), yy.ravel()]\n",
        "\n",
        "feature_transform = lambda x : (net(torch.tensor(x, dtype=torch.float32).unsqueeze(0)).detach().numpy())\n",
        "\n",
        "Phi_grid = feature_transform(X_grid)\n",
        "\n",
        "Z =np.argmax(Phi_grid,axis=2)\n",
        "Z = Z.reshape(xx.shape)\n",
        "\n",
        "figure = plt.figure(figsize=(16, 8))\n",
        "ax = plt.subplot(1,2,1)\n",
        "ax.set_title(\"Input data\")\n",
        "ax.scatter(X_train[:, 0], X_train[:, 1], marker='o', c=t_train, s=50, edgecolor='k')\n",
        "ax.scatter(X_test[:, 0], X_test[:, 1], marker='P', c=t_test, s=50, edgecolor='k')\n",
        "ax = plt.subplot(1,2,2)\n",
        "cmap = ListedColormap(['b','y','r','m','g','c'])\n",
        "plt.contourf(xx,yy,Z,  cmap = cmap, alpha=.8)\n",
        "ax.scatter(X_train[:, 0], X_train[:, 1], marker='o', c=t_train, s=50, edgecolor='k')\n",
        "ax.scatter(X_test[:, 0], X_test[:, 1], marker='P', c=t_test, s=50, edgecolor='k')"
      ],
      "metadata": {
        "id": "BZFCv6RLh9N9"
      },
      "execution_count": null,
      "outputs": []
    },
    {
      "cell_type": "markdown",
      "source": [
        "## Performance du réseau"
      ],
      "metadata": {
        "id": "vTsnvCam7hVP"
      }
    },
    {
      "cell_type": "markdown",
      "source": [
        "\n",
        "  <font color='blue'> Vérifier la performance du réseau en générant sa matrice de confusion et son \"classification report\". </font>"
      ],
      "metadata": {
        "id": "trh5TlpV7kUN"
      }
    }
  ],
  "metadata": {
    "kernelspec": {
      "display_name": "Python 3",
      "language": "python",
      "name": "python3"
    },
    "language_info": {
      "codemirror_mode": {
        "name": "ipython",
        "version": 3
      },
      "file_extension": ".py",
      "mimetype": "text/x-python",
      "name": "python",
      "nbconvert_exporter": "python",
      "pygments_lexer": "ipython3",
      "version": "3.10.9"
    },
    "colab": {
      "provenance": []
    }
  },
  "nbformat": 4,
  "nbformat_minor": 0
}