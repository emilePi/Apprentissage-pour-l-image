{
  "nbformat": 4,
  "nbformat_minor": 0,
  "metadata": {
    "colab": {
      "provenance": []
    },
    "kernelspec": {
      "name": "python3",
      "display_name": "Python 3"
    },
    "language_info": {
      "name": "python"
    }
  },
  "cells": [
    {
      "cell_type": "markdown",
      "source": [
        "# TP3"
      ],
      "metadata": {
        "id": "bR7d2AVJbqim"
      }
    },
    {
      "cell_type": "markdown",
      "source": [
        "# <font color='blue'> Exercise</font>"
      ],
      "metadata": {
        "id": "0N1i5GGz4B9_"
      }
    },
    {
      "cell_type": "markdown",
      "source": [
        "Résolvons $Ax = b$\n",
        "avec\n",
        "$$\n",
        "A = \\begin{pmatrix}\n",
        "   2 & -1 & 0 & 0 & \\cdots & 0 & 0\\\\\n",
        "   -1 & 2 & -1 & 0 &\\cdots & 0 & 0 \\\\\n",
        "   0 & -1 & 2 & -1 &\\cdots & 0 & 0 \\\\\n",
        "   0 & 0 & -1 & 2 &\\cdots & 0 & 0 \\\\\n",
        "   \\vdots  & \\vdots & \\vdots & \\vdots& \\ddots & \\vdots & \\vdots  \\\\\n",
        "   0 & 0 & 0 & 0 & \\cdots & 2 & -1 \\\\\n",
        "   0 & 0 & 0 & 0 & \\cdots & -1 & 2\n",
        " \\end{pmatrix} \\in \\mathbb{R}^{n \\times n} = \\mathscr{M}_n(\\mathbb{R})\n",
        " \\text{ and }\n",
        " b =\n",
        " \\begin{pmatrix}\n",
        " 1 \\\\\n",
        " 1 \\\\\n",
        " \\vdots \\\\\n",
        " 1 \\\\\n",
        " 1\n",
        " \\end{pmatrix} \\in \\mathbb{R}^n\n",
        "$$"
      ],
      "metadata": {
        "id": "frFvAaAl4EXZ"
      }
    },
    {
      "cell_type": "markdown",
      "source": [
        "Il est suffisant de minimiser la fonction :       \n",
        "$$F : x \\in \\mathbb{R}^n \\mapsto \\frac{1}{2}\\langle Ax,x \\rangle - \\langle b, x \\rangle$$\n",
        "\n",
        "1. Implémentez la matrice ```A``` et le vecteur ```b``` dans ```torch``` avec $n = 20$\n",
        "2. Calculez le gradient d'un vecteur aléatoire ```x``` par rapport à ```F``` avec ```torch.autograd```\n",
        "3. Vérifiez que le calcul du gradient est correct.\n",
        "4. Implémentez-le en utilisant ```torch.optim.SGD```, un taux d'apprentissage égal à 0,1, un momentum égal à 0,9 et ```10**3``` itérations."
      ],
      "metadata": {
        "id": "tTNRxtk94FhD"
      }
    },
    {
      "cell_type": "code",
      "source": [
        "#1. #TODO"
      ],
      "metadata": {
        "id": "E5CGin6c9dF2"
      },
      "execution_count": null,
      "outputs": []
    },
    {
      "cell_type": "code",
      "source": [
        "#2. #TODO"
      ],
      "metadata": {
        "id": "rWoUvIogIpWq"
      },
      "execution_count": null,
      "outputs": []
    },
    {
      "cell_type": "code",
      "source": [
        "#3. #TODO"
      ],
      "metadata": {
        "id": "TVd26c1gItu6"
      },
      "execution_count": null,
      "outputs": []
    },
    {
      "cell_type": "code",
      "source": [
        "#4.\n",
        "\n",
        "Nit = #TODO\n",
        "optim = torch.optim.SGD(___, lr=___,momentum=__) #TODO\n",
        "\n",
        "for k in range(Nit) :\n",
        "  F = #TODO\n",
        "         #Compute the gradient\n",
        "  optim.step()\n",
        "         #And ?"
      ],
      "metadata": {
        "id": "vQwRSIcIIySE"
      },
      "execution_count": null,
      "outputs": []
    },
    {
      "cell_type": "markdown",
      "source": [
        "\n",
        "# Neural Networks\n"
      ],
      "metadata": {
        "id": "Ijv3_YISBvY9"
      }
    },
    {
      "cell_type": "markdown",
      "metadata": {
        "id": "QfvGF-ftcLHQ"
      },
      "source": [
        "\n",
        "Les réseaux de neurones peuvent être construits à l'aide du package ``torch.nn``.\n",
        "\n",
        "Maintenant que vous avez eu un aperçu de « autograd », « nn » dépend de\n",
        "``autograd`` pour définir des modèles et les différencier.\n",
        "Un ``nn.Module`` contient des couches et une méthode ``forward(input)`` qui\n",
        "renvoie la « sortie ».\n",
        "\n",
        "Une procédure d'entraînement typique pour un réseau de neurones est la suivante :\n",
        "\n",
        "- Définir le réseau neuronal qui possède certains paramètres à apprendre (ou\n",
        "  poids)\n",
        "- Itérer sur un ensemble de données d'entrées\n",
        "- Calculer la perte (dans quelle mesure la sortie est-elle correcte)\n",
        "- Faire de la backpropagation dans les paramètres du réseau\n",
        "- Mettre à jour les poids du réseau, généralement à l'aide d'une simple règle de mise à jour :\n",
        "  ``poids = poids - taux d'apprentissage * gradient``\n",
        "\n",
        "## Définir le réseau\n",
        "\n",
        "Définissons un réseau :"
      ]
    },
    {
      "cell_type": "code",
      "execution_count": null,
      "metadata": {
        "id": "ZnjtDwjqcLHO"
      },
      "outputs": [],
      "source": [
        "%matplotlib inline"
      ]
    },
    {
      "cell_type": "code",
      "execution_count": null,
      "metadata": {
        "id": "RtWlSylQcLHR"
      },
      "outputs": [],
      "source": [
        "import torch\n",
        "import torch.nn as nn\n",
        "import torch.nn.functional as F\n",
        "\n",
        "\n",
        "class Net(nn.Module):\n",
        "\n",
        "    def __init__(self):\n",
        "        super(Net, self).__init__()\n",
        "        # 1 input image channel, 6 output channels, 5x5 square convolution\n",
        "        # kernel\n",
        "        self.conv1 = nn.Conv2d(1, 6, 5)\n",
        "        self.conv2 = nn.Conv2d(6, 16, 5)\n",
        "        # an affine operation: y = Wx + b\n",
        "        self.fc1 = nn.Linear(16 * 5 * 5, 120)  # 5*5 from image dimension\n",
        "        self.fc2 = nn.Linear(120, 84)\n",
        "        self.fc3 = nn.Linear(84, 10)\n",
        "\n",
        "    def forward(self, x):\n",
        "        # Max pooling over a (2, 2) window\n",
        "        x = F.max_pool2d(F.relu(self.conv1(x)), (2, 2))\n",
        "        # If the size is a square, you can specify with a single number\n",
        "        x = F.max_pool2d(F.relu(self.conv2(x)), 2)\n",
        "        x = torch.flatten(x, 1) # flatten all dimensions except the batch dimension\n",
        "        x = F.relu(self.fc1(x))\n",
        "        x = F.relu(self.fc2(x))\n",
        "        x = self.fc3(x)\n",
        "        return x\n",
        "\n",
        "\n",
        "net = Net()\n",
        "print(net)"
      ]
    },
    {
      "cell_type": "markdown",
      "source": [
        " <font color='blue'> **Question** : Décrire l'architecture du réseau </font>"
      ],
      "metadata": {
        "id": "qUM6LLlcTid4"
      }
    },
    {
      "cell_type": "markdown",
      "source": [
        " <font color='blue'> **Question** : Afficher les poids et biais de la première convolution </font>"
      ],
      "metadata": {
        "id": "k79XwF0AbNyr"
      }
    },
    {
      "cell_type": "markdown",
      "metadata": {
        "id": "2kfzsfEgcLHS"
      },
      "source": [
        "Il suffit de définir la fonction ``forward`` et la fonction ``backward``\n",
        "la fonction (où les gradients sont calculés) est automatiquement définie pour vous\n",
        "en utilisant ``autograd``.\n",
        "Vous pouvez utiliser n'importe laquelle des opérations Tensor dans la fonction « forward ».\n",
        "\n",
        "Les paramètres apprenables d'un modèle sont renvoyés par ``net.parameters()``\n",
        "\n"
      ]
    },
    {
      "cell_type": "code",
      "execution_count": null,
      "metadata": {
        "id": "9Sie6Ow3cLHS"
      },
      "outputs": [],
      "source": [
        "params = list(net.parameters())\n",
        "print(len(params))\n",
        "print(params[0].size())  # conv1's .weight"
      ]
    },
    {
      "cell_type": "markdown",
      "source": [
        "**Attention !**\n",
        "Quand on parle du nombre de paramètres d'un réseau, on parle du nombre de nombres réels dans les matrices, biais et noyaux impliqués dans le réseau (comme dans le cours)."
      ],
      "metadata": {
        "id": "G8QrCj4NV3LU"
      }
    },
    {
      "cell_type": "markdown",
      "source": [
        " <font color='blue'> **Question** : Combien de paramètres a ce réseau ? </font>"
      ],
      "metadata": {
        "id": "mRU32WSbWWdV"
      }
    },
    {
      "cell_type": "markdown",
      "metadata": {
        "id": "fWC9IfM8cLHS"
      },
      "source": [
        "Essayons d'envoyer une image aléatoire en entrée.\n"
      ]
    },
    {
      "cell_type": "markdown",
      "source": [
        " <font color='blue'> **Question** : Testez le réseau sur une entrée aléatoire qui est une image en niveaux de gris (un canal) de taille $32 \\times 32$.</font>"
      ],
      "metadata": {
        "id": "xXZPV8UzbjRm"
      }
    },
    {
      "cell_type": "code",
      "execution_count": null,
      "metadata": {
        "id": "wBBFwR0jcLHS"
      },
      "outputs": [],
      "source": [
        "input = #TODO\n",
        "out = net(input)\n",
        "print(out)"
      ]
    },
    {
      "cell_type": "markdown",
      "source": [
        "##  <font color='blue'> Exercice </font>"
      ],
      "metadata": {
        "id": "8m_g4OxtWitv"
      }
    },
    {
      "cell_type": "markdown",
      "source": [
        "1. Nous aimerions définir un réseau qui classe les images de taille $(3,32,32)$.\n",
        "Construire une classe Net() qui applique :\n",
        "- une convolution avec $6$ canaux en sortie et un noyau de taille $5 \\times 5$, suivi d'un ReLu\n",
        "- un max pooling de taille $2 \\times 2$\n",
        "- une convolution avec $16$ de canaux en sortie et un noyau de taille $3 \\times 3$, suivi d'un ReLu\n",
        "- un  max pooling de taille $2 \\times 2$\n",
        "- une couche linéaire avec une taille de sortie de $120$, suivie d'un ReLu\n",
        "- une couche linéaire avec une taille de sortie de $84$, suivie d'un ReLu\n",
        "- une couche linéaire avec une taille de sortie de $10$\n",
        "\n",
        "Vérifiez que cela fonctionne avec une entrée aléatoire.\n",
        "\n",
        "2. Dessinez le réseau comme cela est fait dans les dernières slides du cours."
      ],
      "metadata": {
        "id": "MO-VJ2GtWyRT"
      }
    },
    {
      "cell_type": "code",
      "source": [
        "class Net(nn.Module):\n",
        "    def __init__(self):\n",
        "        super().__init__()\n",
        "        #TODO\n",
        "\n",
        "    def forward(self, x):\n",
        "      #TODO\n",
        "\n",
        "\n",
        "net = Net()"
      ],
      "metadata": {
        "id": "saejSg-qcatJ"
      },
      "execution_count": null,
      "outputs": []
    },
    {
      "cell_type": "code",
      "source": [
        "x = #TODO\n",
        "net(x)"
      ],
      "metadata": {
        "id": "LHa2zo3gZGZF"
      },
      "execution_count": null,
      "outputs": []
    },
    {
      "cell_type": "markdown",
      "source": [
        "# Retour sur le TP1"
      ],
      "metadata": {
        "id": "7zdL8RRt4LqD"
      }
    },
    {
      "cell_type": "code",
      "source": [
        "import numpy as np\n",
        "import matplotlib.pyplot as plt\n",
        "from matplotlib.colors import ListedColormap\n",
        "from sklearn.datasets import make_moons, make_circles, make_classification, make_blobs, make_gaussian_quantiles\n",
        "from sklearn import metrics\n",
        "from sklearn.model_selection import train_test_split\n",
        "from sklearn.preprocessing import StandardScaler"
      ],
      "metadata": {
        "id": "5wBNEX_I4NHp"
      },
      "execution_count": null,
      "outputs": []
    },
    {
      "cell_type": "code",
      "source": [
        "X, t = make_gaussian_quantiles(n_features=2, n_classes=3, n_samples=500)\n",
        "\n",
        "X_train, X_test, t_train, t_test = train_test_split(X, t, test_size=.4, random_state=12)\n",
        "# Number of points in each set:\n",
        "N_train = X_train.shape[0]\n",
        "N_test = X_test.shape[0]\n",
        "\n",
        "figure = plt.figure(figsize=(10, 10))\n",
        "plt.scatter(X_train[:, 0], X_train[:, 1], marker='o', c=t_train, s=50, edgecolor='k')\n",
        "plt.scatter(X_test[:, 0], X_test[:, 1], marker='P', c=t_test, s=50, edgecolor='k');\n",
        "plt.show()"
      ],
      "metadata": {
        "id": "DAwz2zEa4N3y"
      },
      "execution_count": null,
      "outputs": []
    },
    {
      "cell_type": "code",
      "source": [
        "X_train = torch.tensor(X_train, dtype=torch.float32)\n",
        "t_train = torch.tensor(t_train, dtype=torch.int64)\n",
        "X_test = torch.tensor(X_test, dtype=torch.float32)\n",
        "t_test = torch.tensor(t_test, dtype=torch.int64)"
      ],
      "metadata": {
        "id": "ckIWbaq34QS9"
      },
      "execution_count": null,
      "outputs": []
    },
    {
      "cell_type": "code",
      "source": [
        "import torch\n",
        "import torch.nn as nn\n",
        "import torch.nn.functional as F\n",
        "\n",
        "d = 5\n",
        "class Net(nn.Module):\n",
        "\n",
        "    def __init__(self):\n",
        "        super(Net, self).__init__()\n",
        "        self.fc1 = nn.Linear(2,d)\n",
        "        self.fc2 = nn.Linear(d, 3)\n",
        "\n",
        "    def forward(self, x):\n",
        "        x = F.relu(self.fc1(x))\n",
        "        x = self.fc2(x)\n",
        "        return x\n",
        "\n",
        "\n",
        "net = Net()\n",
        "net2 = Net()"
      ],
      "metadata": {
        "id": "s9my7HVc4Sid"
      },
      "execution_count": null,
      "outputs": []
    },
    {
      "cell_type": "markdown",
      "source": [
        "\n",
        "<font color='blue'> Question : Reconnaissez-vous le réseau ci-dessus ?</font>"
      ],
      "metadata": {
        "id": "tVXnAkNA4VMi"
      }
    },
    {
      "cell_type": "code",
      "source": [
        "net.fc1.bias.requires_grad = False\n",
        "net.fc1.weight.requires_grad = False\n"
      ],
      "metadata": {
        "id": "Ks7AdlQX4TW9"
      },
      "execution_count": null,
      "outputs": []
    },
    {
      "cell_type": "markdown",
      "source": [
        "<font color='blue'> Question : Qu'est-ce qui est fait ci-dessus ?</font>"
      ],
      "metadata": {
        "id": "ylae5zyV4XL1"
      }
    },
    {
      "cell_type": "code",
      "source": [
        "\n",
        "\n",
        "W1 =torch.randn(d,2)\n",
        "b1 = torch.randn(d)\n",
        "net.fc2.bias = torch.nn.Parameter(b1)\n",
        "net.fc2.weight = torch.nn.Parameter(W1)\n",
        "net2.fc2.bias = torch.nn.Parameter(b1)\n",
        "net2.fc2.weight = torch.nn.Parameter(W1)\n",
        "\n",
        "\n",
        "W2 =torch.randn(3,d)\n",
        "b2 = torch.randn(3)\n",
        "net.fc2.bias = torch.nn.Parameter(b2)\n",
        "net.fc2.weight = torch.nn.Parameter(W2)\n",
        "net2.fc2.bias = torch.nn.Parameter(b2)\n",
        "net2.fc2.weight = torch.nn.Parameter(W2)"
      ],
      "metadata": {
        "id": "LoWOTyzG4Xll"
      },
      "execution_count": null,
      "outputs": []
    },
    {
      "cell_type": "code",
      "source": [
        "import torch.optim as optim\n",
        "criterion = nn.CrossEntropyLoss()\n",
        "optimizer = optim.SGD(net.parameters(), lr=0.75)\n",
        "optimizer2 = optim.SGD(net2.parameters(), lr=0.75)"
      ],
      "metadata": {
        "id": "8UWjylyE4dC6"
      },
      "execution_count": null,
      "outputs": []
    },
    {
      "cell_type": "code",
      "source": [
        "\n",
        "for epoch in range(10**3):  # loop over the dataset multiple times\n",
        "    # zero the parameter gradients\n",
        "    optimizer.zero_grad()\n",
        "    optimizer2.zero_grad()\n",
        "    # forward + backward + optimize\n",
        "    output = net(X_train)\n",
        "    loss = criterion(output, t_train)\n",
        "    loss.backward()\n",
        "    optimizer.step()\n",
        "    # forward + backward + optimize\n",
        "    output2 = net2(X_train)\n",
        "    loss2 = criterion(output2, t_train)\n",
        "    loss2.backward()\n",
        "    optimizer2.step()\n",
        "\n",
        "print('Finished Training')\n"
      ],
      "metadata": {
        "id": "YTYDZoVK4es6"
      },
      "execution_count": null,
      "outputs": []
    },
    {
      "cell_type": "code",
      "source": [
        "#visualize results:\n",
        "\n",
        "x_min, x_max = X[:, 0].min() - .5, X[:, 0].max() + .5\n",
        "y_min, y_max = X[:, 1].min() - .5, X[:, 1].max() + .5\n",
        "h = 0.02\n",
        "xx, yy = np.meshgrid(np.arange(x_min, x_max, h),\n",
        "                        np.arange(y_min, y_max, h))\n",
        "X_grid = np.hstack((xx.ravel(), yy.ravel()))\n",
        "\n",
        "N_grid = xx.ravel().shape[0]\n",
        "X_grid = np.c_[xx.ravel(), yy.ravel()]\n",
        "\n",
        "feature_transform = lambda x : (net(torch.tensor(x, dtype=torch.float32).unsqueeze(0)).detach().numpy())\n",
        "feature_transform2 = lambda x : (net2(torch.tensor(x, dtype=torch.float32).unsqueeze(0)).detach().numpy())\n",
        "\n",
        "\n",
        "Phi_grid = feature_transform(X_grid)\n",
        "Phi_grid2 = feature_transform2(X_grid)\n",
        "\n",
        "Z =np.argmax(Phi_grid,axis=2)\n",
        "Z = Z.reshape(xx.shape)\n",
        "\n",
        "figure = plt.figure(figsize=(16, 8))\n",
        "ax = plt.subplot(1,2,1)\n",
        "ax.set_title(\"Input data\")\n",
        "ax.scatter(X_train[:, 0], X_train[:, 1], marker='o', c=t_train, s=50, edgecolor='k')\n",
        "ax.scatter(X_test[:, 0], X_test[:, 1], marker='P', c=t_test, s=50, edgecolor='k')\n",
        "ax = plt.subplot(1,2,2)\n",
        "cmap = ListedColormap(['b','y','r','m','g','c'])\n",
        "plt.contourf(xx,yy,Z,  cmap = cmap, alpha=.8)\n",
        "ax.scatter(X_train[:, 0], X_train[:, 1], marker='o', c=t_train, s=50, edgecolor='k')\n",
        "ax.scatter(X_test[:, 0], X_test[:, 1], marker='P', c=t_test, s=50, edgecolor='k')\n",
        "\n",
        "Z2 =np.argmax(Phi_grid2,axis=2)\n",
        "Z2 = Z2.reshape(xx.shape)\n",
        "figure = plt.figure(figsize=(16, 8))\n",
        "ax = plt.subplot(1,2,1)\n",
        "ax.set_title(\"Input data\")\n",
        "ax.scatter(X_train[:, 0], X_train[:, 1], marker='o', c=t_train, s=50, edgecolor='k')\n",
        "ax.scatter(X_test[:, 0], X_test[:, 1], marker='P', c=t_test, s=50, edgecolor='k')\n",
        "ax = plt.subplot(1,2,2)\n",
        "cmap = ListedColormap(['b','y','r','m','g','c'])\n",
        "plt.contourf(xx,yy,Z2,  cmap = cmap, alpha=.8)\n",
        "ax.scatter(X_train[:, 0], X_train[:, 1], marker='o', c=t_train, s=50, edgecolor='k')\n",
        "ax.scatter(X_test[:, 0], X_test[:, 1], marker='P', c=t_test, s=50, edgecolor='k')"
      ],
      "metadata": {
        "id": "FMxyXSvb4g5S"
      },
      "execution_count": null,
      "outputs": []
    },
    {
      "cell_type": "markdown",
      "source": [
        "# Test image"
      ],
      "metadata": {
        "id": "D1IWPAjs-IK_"
      }
    },
    {
      "cell_type": "code",
      "source": [
        "!git clone 'https://github.com/emilePi/denis'"
      ],
      "metadata": {
        "id": "hwui1Ixp-Jdm"
      },
      "execution_count": null,
      "outputs": []
    },
    {
      "cell_type": "code",
      "source": [
        "import io\n",
        "import requests\n",
        "from PIL import Image\n",
        "from torchvision.transforms.functional import to_tensor\n",
        "import pylab as plt\n",
        "import numpy as np\n",
        "img = to_tensor(Image.open('./denis/denis.jpeg'))\n",
        "npimg = img.numpy()\n",
        "plt.imshow(np.transpose(npimg, (1, 2, 0)),cmap=plt.cm.gray)\n",
        "plt.show()\n"
      ],
      "metadata": {
        "id": "P7eewWDl-Q-F"
      },
      "execution_count": null,
      "outputs": []
    },
    {
      "cell_type": "code",
      "source": [
        "import torch\n",
        "from torchvision.transforms.functional import to_tensor, to_pil_image\n",
        "from IPython.display import display\n",
        "from PIL import Image\n",
        "\n",
        "im_pil = Image.open('./denis/denis.jpeg')\n",
        "display(im_pil)"
      ],
      "metadata": {
        "id": "p3DLKbrV-cqV"
      },
      "execution_count": null,
      "outputs": []
    },
    {
      "cell_type": "code",
      "source": [],
      "metadata": {
        "id": "Nuj9qqVb-zXp"
      },
      "execution_count": null,
      "outputs": []
    }
  ]
}