{
 "cells": [
  {
   "cell_type": "markdown",
   "metadata": {
    "id": "JVSu8Uap9PAZ"
   },
   "source": [
    "#Projet final pour le cours M1MAS \"Apprentissage pour l'image\", année 2023-2024\n",
    "\n",
    "## Consignes\n",
    "\n",
    "### Date et modalité\n",
    "Ce projet est à rendre au plus tard le ?\n",
    "Les projets sont à envoyer par email à\n",
    "\n",
    "  ```\n",
    "  emile.pierret@univ-orleans.fr\n",
    "  ```\n",
    "\n",
    "sous forme d’un python notebook (*.ipynb) contenant la sortie des cellules. Le fichier doit être nommé\n",
    "  ```\n",
    "  NOM_Prenom_Projet.ipynb\n",
    "  ```\n",
    "Si le fichier dépasse la taille de 5 Mo merci de l'envoyer par un lien cloud (comme https://filesender.renater.fr/, dropbox, filetransfer...).\n",
    "\n",
    "\n",
    "On conseille de travailler avec Google Colab.\n",
    "Depuis Colab vous devez faire\n",
    "```\n",
    "  Fichier -> Télécharger le fichier .ipynb\n",
    "```\n",
    "pour récupérer le fichier à envoyer.\n",
    "\n",
    "## Plagiat\n",
    "\n",
    "\n",
    "Ce qui suit est un plagiat de https://www.larousse.fr/dictionnaires/francais/plagiat/61301 :\n",
    "\n",
    "\"Plagiat, nom masculin, (de plagiaire) :\n",
    "\n",
    "— Acte de quelqu’un qui, dans le domaine artistique ou littéraire, donne pour sien ce qu’il a pris à l’œuvre\n",
    "d’un autre.\n",
    "\n",
    "— Ce qui est emprunté, copié, démarqué.\"\n",
    "\n",
    "Tout plagiat de texte est strictement interdit.\n",
    "Le plagiat de morceaux de code est autorisé à condition que chaque source soit citée, en précisant le lien internet par exemple.\n",
    "Cette règle ne s'applique pas au code du tutoriel vu en cours qui sera la base de travail à savoir :\n",
    "\n",
    "https://pytorch.org/tutorials/beginner/blitz/cifar10_tutorial.html#sphx-glr-beginner-blitz-cifar10-tutorial-py\n",
    "\n",
    "\n",
    "## Travail attendu\n",
    "\n",
    "Il est attendu que:\n",
    "* Toute cellule de code soit précédée par une description de ce qu'elle contient.\n",
    "* Chaque résultat obtenu soit commenté.\n"
   ]
  },
  {
   "cell_type": "markdown",
   "metadata": {
    "id": "59OUyiad9dza"
   },
   "source": [
    "#Classification de la base FashionMNIST par réseau de neurones"
   ]
  },
  {
   "cell_type": "markdown",
   "metadata": {
    "id": "fvIKvXBHBs7-"
   },
   "source": [
    "###Question 1 :\n",
    "En utilisant la classe\n",
    "```\n",
    "CLASS torchvision.datasets.FashionMNIST\n",
    "```\n",
    "documentée ici :\n",
    "\n",
    "https://pytorch.org/vision/stable/generated/torchvision.datasets.FashionMNIST.html#torchvision.datasets.FashionMNIST\n",
    "\n",
    "définir les objets `trainset`, `trainloader`, `testset`, `testloader` et `classes` en définissant une fonction transform qui ramène les niveaux de gris dans l'intervalle $[-1,1]$.\n",
    "\n",
    "Afficher quelques images avec leur classe correspondante."
   ]
  },
  {
   "cell_type": "code",
   "execution_count": 1,
   "metadata": {
    "id": "4QpMaVWhlKsW"
   },
   "outputs": [],
   "source": [
    "#TODO"
   ]
  },
  {
   "cell_type": "markdown",
   "metadata": {
    "id": "88hk_RFQDC9f"
   },
   "source": [
    "###Question 2 :\n",
    "\n",
    "Décrire quantitativement la base de données en répondant aux questions suivantes :\n",
    "\n",
    "* Quelle est la taille de chaque image ?\n",
    "* Combien y a-t-il d'images au total pour `trainset` et `testset` ?\n",
    "* Combien d'images par classe ?\n",
    "* Combien de classes ?\n",
    "\n",
    "On pourra proposer un script pour répondre aux questions.\n"
   ]
  },
  {
   "cell_type": "code",
   "execution_count": 2,
   "metadata": {
    "id": "LWvg304qlNFn"
   },
   "outputs": [],
   "source": [
    "#TODO"
   ]
  },
  {
   "cell_type": "markdown",
   "metadata": {
    "id": "E6wiUT0FEFRt"
   },
   "source": [
    "## Réseau de neurones convolutionnel (CNN)\n",
    "\n",
    "On souhaite définir un réseau de neurones convolutionnel (CNN) qui s'applique aux images de `FashionMNIST`et effectue la suite d'opérations suivante :\n",
    "\n",
    "**Partie CNN :**\n",
    " * Une convolution 2D de noyau de taille 5x5 avec 12 canaux en sortie, suivie d'une activation  ReLU.\n",
    " * Un max-pooling 2D de taille 2x2\n",
    " * Une convolution 2D de noyau de taille 5x5 avec 20 canaux en sortie, suivie d'une activation  ReLU.\n",
    " * Un max-pooling 2D de taille 2x2\n",
    "\n",
    "**Partie linéaire :**\n",
    " * Une couche linéaire avec dimension de sortie 100, suivie d'une activation  ReLU.\n",
    " * Une couche linéaire avec dimension de sortie 60, suivie d'une activation  ReLU.\n",
    " * Une couche linéaire finale permettant la classification.\n",
    "\n"
   ]
  },
  {
   "cell_type": "markdown",
   "metadata": {
    "id": "O1P0bWYOGj2d"
   },
   "source": [
    "###Question 3 :\n",
    "\n",
    "Etant donné un batch `x` (dont on précisera les dimensions) en entrée du CNN, expliciter les dimensions des tenseurs en entrée et en sortie de chacune des couches successives du réseau. On prendra soin de préciser les opérations nécessaires pour passer de la partie CNN à la partie linéaire."
   ]
  },
  {
   "cell_type": "markdown",
   "metadata": {
    "id": "WodrXlEGlYwb"
   },
   "source": [
    "TODO"
   ]
  },
  {
   "cell_type": "markdown",
   "metadata": {
    "id": "wt1jCa_YHi4K"
   },
   "source": [
    "###Question 4 :\n",
    "Définir une class `CNNet` qui implémente le modèle décrit ci-dessus.\n",
    "\n",
    "Définir un réseau cnnet = CNNet() et tester sa fonction `forward` sur un batch du `trainset`.\n",
    "\n",
    "Afficher quel est le nombre de paramètres du réseau."
   ]
  },
  {
   "cell_type": "markdown",
   "metadata": {
    "id": "czxLOjJpImVp"
   },
   "source": [
    "##Entraînement du réseau"
   ]
  },
  {
   "cell_type": "markdown",
   "metadata": {
    "id": "JMSz4iH4H8ON"
   },
   "source": [
    "###Question 5 :\n",
    "Proposer un script qui entraîne le réseau `cnnet` sur 10 epochs avec affichage à chaque epochs de l'\"epoch loss\" (moyenne des loss sur chaque batch considérés dans l'epoch, soit la \"running loss\" accumulée sur toute l'epoch) et du temps total de l'entraînement.\n",
    "\n"
   ]
  },
  {
   "cell_type": "markdown",
   "metadata": {
    "id": "gTrG06YqKxNU"
   },
   "source": [
    "### Question 6 :\n",
    "\n",
    "Expliquer la relation mathématique entre la sortie du réseau de neurones et la classe prédite par le réseau de neurone. Justifier cette formule.\n"
   ]
  },
  {
   "cell_type": "markdown",
   "metadata": {
    "id": "NEeDRD39LMzW"
   },
   "source": [
    "### Question 7 :\n",
    "A l'aide des fonctions de ```sklearn```utilisées en cours, évaluer la performance du réseau entraîné (rapport de classification et matrice de confusion).\n",
    "\n",
    "Commenter les résultats. Que proposez-vous pour améliorer les performances du réseau ?"
   ]
  },
  {
   "cell_type": "markdown",
   "metadata": {
    "id": "ZODUoRNrljdp"
   },
   "source": [
    "### Question 8 :"
   ]
  },
  {
   "cell_type": "markdown",
   "metadata": {
    "id": "qOpSAPAkm88P"
   },
   "source": [
    "Le code ci-dessous permet de charger 5 images sous forme de tensor et de les afficher. Que représente chacune de ces images ?\n",
    "\n",
    "\n",
    "Faire passer ces images dans le réseau. Que se passe-t-il ? ( Il se peut que cela provoque des erreurs ). Expliquer.\n",
    "\n",
    "**Attention :** Pour rappel, les images sont renormalisées avant de passer dans le réseau."
   ]
  },
  {
   "cell_type": "code",
   "execution_count": 3,
   "metadata": {
    "colab": {
     "base_uri": "https://localhost:8080/"
    },
    "executionInfo": {
     "elapsed": 905,
     "status": "ok",
     "timestamp": 1709824303299,
     "user": {
      "displayName": "Émile Pierret",
      "userId": "07840624836246481116"
     },
     "user_tz": -60
    },
    "id": "JKbj9KpodSxp",
    "outputId": "bb66cfc3-a5c6-4c36-e194-728b4731cbb0"
   },
   "outputs": [
    {
     "name": "stdout",
     "output_type": "stream",
     "text": [
      "Clonage dans 'Images_2024'...\n",
      "remote: Enumerating objects: 13, done.\u001b[K\n",
      "remote: Counting objects: 100% (13/13), done.\u001b[K\n",
      "remote: Compressing objects: 100% (13/13), done.\u001b[K\n",
      "remote: Total 13 (delta 2), reused 0 (delta 0), pack-reused 0\u001b[K\n",
      "Réception d'objets: 100% (13/13), 6.57 Kio | 6.57 Mio/s, fait.\n",
      "Résolution des deltas: 100% (2/2), fait.\n"
     ]
    }
   ],
   "source": [
    "!git clone 'https://github.com/emilePi/Images_2024'"
   ]
  },
  {
   "cell_type": "code",
   "execution_count": 14,
   "metadata": {
    "colab": {
     "base_uri": "https://localhost:8080/",
     "height": 1000
    },
    "executionInfo": {
     "elapsed": 1371,
     "status": "ok",
     "timestamp": 1709826021182,
     "user": {
      "displayName": "Émile Pierret",
      "userId": "07840624836246481116"
     },
     "user_tz": -60
    },
    "id": "DHBezKaHcOkk",
    "outputId": "88d0d59e-05d7-47df-e695-dfeebe136b5b",
    "scrolled": false
   },
   "outputs": [
    {
     "data": {
      "image/png": "[encoded data removed]",
      "text/plain": [
       "<Figure size 640x480 with 1 Axes>"
      ]
     },
     "metadata": {},
     "output_type": "display_data"
    },
    {
     "data": {
      "image/png": "[encoded data removed]",
      "text/plain": [
       "<Figure size 640x480 with 1 Axes>"
      ]
     },
     "metadata": {},
     "output_type": "display_data"
    },
    {
     "data": {
      "image/png": "[encoded data removed]",
      "text/plain": [
       "<Figure size 640x480 with 1 Axes>"
      ]
     },
     "metadata": {},
     "output_type": "display_data"
    },
    {
     "data": {
      "image/png": "[encoded data removed]",
      "text/plain": [
       "<Figure size 640x480 with 1 Axes>"
      ]
     },
     "metadata": {},
     "output_type": "display_data"
    },
    {
     "data": {
      "image/png": "[encoded data removed]",
      "text/plain": [
       "<Figure size 640x480 with 1 Axes>"
      ]
     },
     "metadata": {},
     "output_type": "display_data"
    }
   ],
   "source": [
    "import pylab as plt\n",
    "import numpy as np\n",
    "from PIL import Image\n",
    "from torchvision.transforms.functional import to_tensor\n",
    "\n",
    "img1 = to_tensor(Image.open('./Images_2024/coat.png'))\n",
    "\n",
    "img2 = to_tensor(Image.open('./Images_2024/cat.png'))\n",
    "\n",
    "img3 = to_tensor(Image.open('./Images_2024/horse.png'))\n",
    "\n",
    "img4 = to_tensor(Image.open('./Images_2024/MNIST.png'))\n",
    "\n",
    "img5 = to_tensor(Image.open('./Images_2024/red_shoes.png'))\n",
    "\n",
    "for img in [img1,img2,img3,img4,img5] :\n",
    "    npimg = img.numpy() \n",
    "    plt.imshow(np.transpose(npimg, (1, 2, 0))) \n",
    "    plt.show()"
   ]
  },
  {
   "cell_type": "markdown",
   "metadata": {
    "id": "JnsGeSQKLjeB"
   },
   "source": [
    "## Comparaison avec un réseau à une couche cachée"
   ]
  },
  {
   "cell_type": "markdown",
   "metadata": {
    "id": "qCREf5WDLyr9"
   },
   "source": [
    "Pour finir nous allons comparer la performance du réseau CNN avec un réseau simple à une seule couche cachée.\n",
    "\n",
    "On va utiliser l'architecture suivante :\n",
    "\n",
    "* Une couche linéaire avec dimension de sortie 300, suivie d'une activation  ReLU.\n",
    "* Une couche linéaire finale permettant la classification."
   ]
  },
  {
   "cell_type": "markdown",
   "metadata": {
    "id": "lAu4vfJmMYc5"
   },
   "source": [
    "###Question 9 :\n",
    "Définir une class `MLP` qui implémente le modèle décrit ci-dessus.\n",
    "\n",
    "Définir un réseau mlp = MLP() et tester sa fonction `forward` sur un batch du `trainset`.\n",
    "\n",
    "Afficher quel est le nombre de paramètres du réseau `mlp`. Commenter."
   ]
  },
  {
   "cell_type": "code",
   "execution_count": 11,
   "metadata": {
    "id": "0ModGE9zl0rR"
   },
   "outputs": [],
   "source": [
    "#TODO"
   ]
  },
  {
   "cell_type": "markdown",
   "metadata": {
    "id": "I8wiYKM6M9Bg"
   },
   "source": [
    "###Question 10 :\n",
    "Adapter les scripts des questions 5 et 7 pour entraîner le réseau `mlp` et évaluer sa performance.\n",
    "\n",
    "Comparer les performances des deux réseaux entraînés.\n",
    "\n"
   ]
  },
  {
   "cell_type": "code",
   "execution_count": 12,
   "metadata": {
    "id": "Ib7p25pehVGl"
   },
   "outputs": [],
   "source": [
    "#TODO"
   ]
  },
  {
   "cell_type": "code",
   "execution_count": null,
   "metadata": {},
   "outputs": [],
   "source": []
  }
 ],
 "metadata": {
  "colab": {
   "provenance": []
  },
  "kernelspec": {
   "display_name": "Python 3 (ipykernel)",
   "language": "python",
   "name": "python3"
  },
  "language_info": {
   "codemirror_mode": {
    "name": "ipython",
    "version": 3
   },
   "file_extension": ".py",
   "mimetype": "text/x-python",
   "name": "python",
   "nbconvert_exporter": "python",
   "pygments_lexer": "ipython3",
   "version": "3.9.13"
  }
 },
 "nbformat": 4,
 "nbformat_minor": 1
}
