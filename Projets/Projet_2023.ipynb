{
  "cells": [
    {
      "cell_type": "markdown",
      "metadata": {
        "id": "JVSu8Uap9PAZ"
      },
      "source": [
        "#Projet final pour le cours M1MAS \"Apprentissage pour l'image\", année 2022-2023\n",
        "\n",
        "## Consignes\n",
        "\n",
        "### Date et modalité\n",
        "Ce projet est à rendre au plus tard pour le <font color='red'>dimanche 30 avril</font>. Pour rappel il y a un site du cours : ([git](https://github.com/emilePi/Apprentissage-pour-l-image)).\n",
        "Les projets sont à envoyer par email à \n",
        "\n",
        "  ```\n",
        "  emile.pierret@univ-orleans.fr\n",
        "  ``` \n",
        "\n",
        "sous forme d’un python notebook (*.ipynb) contenant la sortie des cellules. Le fichier doit être nommé\n",
        "  ```\n",
        "  NOM_Prenom_project_2023.ipynb\n",
        "  ```\n",
        "Si le fichier dépasse la taille de 5 Mo merci de l'envoyer par un lien cloud (comme https://filesender.renater.fr/, dropbox, filetransfer...).\n",
        "\n",
        "\n",
        "On conseille de travailler avec Google Colab.\n",
        "Depuis Colab vous devez faire \n",
        "```\n",
        "  Fichier -> Télécharger le fichier .ipynb\n",
        "``` \n",
        "pour récupérer le fichier à envoyer.\n",
        "\n",
        "## Plagiat\n",
        "\n",
        "\n",
        "Ce qui suit est un plagiat de https://www.larousse.fr/dictionnaires/francais/plagiat/61301 :\n",
        "\n",
        "\"Plagiat, nom masculin, (de plagiaire) :\n",
        "\n",
        "— Acte de quelqu’un qui, dans le domaine artistique ou littéraire, donne pour sien ce qu’il a pris à l’œuvre\n",
        "d’un autre.\n",
        "\n",
        "— Ce qui est emprunté, copié, démarqué.\"\n",
        "\n",
        "Tout plagiat de texte est strictement interdit.\n",
        "Le plagiat de morceaux de code est autorisé à condition que chaque source soit citée, en précisant le lien internet par exemple.\n",
        "Cette règle ne s'applique pas au code du tutoriel vu en cours qui sera la base de travail à savoir :\n",
        "\n",
        "https://pytorch.org/tutorials/beginner/blitz/cifar10_tutorial.html#sphx-glr-beginner-blitz-cifar10-tutorial-py\n",
        "\n",
        "\n",
        "## Travail attendu\n",
        "\n",
        "Il est attendu que:\n",
        "* Toute cellule de code soit précédée par une description de ce qu'elle contient.\n",
        "* Chaque résultat obtenu soit commenté.\n"
      ]
    },
    {
      "cell_type": "markdown",
      "metadata": {
        "id": "59OUyiad9dza"
      },
      "source": [
        "#Classification de la base MNIST par réseau de neurones"
      ]
    },
    {
      "cell_type": "markdown",
      "metadata": {
        "id": "fvIKvXBHBs7-"
      },
      "source": [
        "###Question 1 :\n"
      ]
    },
    {
      "cell_type": "markdown",
      "source": [
        "En utilisant la classe \n",
        "```\n",
        "CLASS torchvision.datasets.MNIST\n",
        "```\n",
        "documentée ici :\n",
        "\n",
        "https://pytorch.org/vision/stable/generated/torchvision.datasets.MNIST.html#torchvision.datasets.MNIST\n",
        "\n",
        "et sur le modèle du TP4, définir les objets `trainset`, `trainloader`, `testset`, `testloader` et `classes` en définissant une fonction transform qui ramène les niveaux de gris dans l'intervalle $[-1,1]$.\n",
        "\n",
        "Afficher quelques images avec leur classe correspondante."
      ],
      "metadata": {
        "id": "NsUIDinonpNk"
      }
    },
    {
      "cell_type": "code",
      "source": [
        "# TODO: définir les objets trainset, trainloader, testset, testloader et classes\n",
        "\n",
        "\n",
        "# TODO: Affichage\n"
      ],
      "metadata": {
        "id": "iKexVBmYoQ_6"
      },
      "execution_count": null,
      "outputs": []
    },
    {
      "cell_type": "markdown",
      "metadata": {
        "id": "88hk_RFQDC9f"
      },
      "source": [
        "###Question 2 : \n",
        "\n"
      ]
    },
    {
      "cell_type": "markdown",
      "source": [
        "\n",
        "Décrire quantitativement la base de données en répondant aux questions suivantes : \n",
        "\n",
        "* Quelle est la taille de chaque image ? \n",
        "* Combien y a-t-il d'images au total pour `trainset` et `testset` ? \n",
        "* Combien d'images par classe ?\n",
        "* Combien de classes ?\n",
        "\n",
        "On pourra proposer un script pour répondre aux questions."
      ],
      "metadata": {
        "id": "Or9s6u1XnwvF"
      }
    },
    {
      "cell_type": "code",
      "source": [],
      "metadata": {
        "id": "dU-paiOLoTfZ"
      },
      "execution_count": null,
      "outputs": []
    },
    {
      "cell_type": "markdown",
      "metadata": {
        "id": "E6wiUT0FEFRt"
      },
      "source": [
        "## Réseau de neurones convolutionnel (CNN)\n",
        "\n",
        "On souhaite définir un réseau de neurones convolutionnel (CNN) qui s'applique aux images de `MNIST`et effectue la suite d'opérations suivante :\n",
        "\n",
        "**Partie CNN :** \n",
        " * Une convolution 2D de noyau de taille 5x5 avec 16 canaux en sortie, suivie d'une activation  ReLU.\n",
        " * Un max-pooling 2D de taille 2x2\n",
        " * Une convolution 2D de noyau de taille 5x5 avec 32 canaux en sortie, suivie d'une activation  ReLU.\n",
        " * Un max-pooling 2D de taille 2x2\n",
        " \n",
        "**Partie linéaire :**\n",
        " * Une couche linéaire finale permettant la classification.\n",
        "\n"
      ]
    },
    {
      "cell_type": "markdown",
      "metadata": {
        "id": "O1P0bWYOGj2d"
      },
      "source": [
        "###Question 3 : "
      ]
    },
    {
      "cell_type": "markdown",
      "source": [
        "\n",
        "Etant donnée un batch `x` (dont on précisera les dimensions) en entrée du CNN, expliciter les dimensions des tenseurs en entrée et en sortie de chacune des couches successives du réseau. On prendra soin de préciser les opérations nécessaires pour passer de la partie CNN à la partie linéaire."
      ],
      "metadata": {
        "id": "n8DvQkuFn8CH"
      }
    },
    {
      "cell_type": "markdown",
      "metadata": {
        "id": "wt1jCa_YHi4K"
      },
      "source": [
        "###Question 4 : "
      ]
    },
    {
      "cell_type": "markdown",
      "source": [
        "Définir une class `CNNet` qui implémente le modèle décrit ci-dessus.\n",
        "\n",
        "Définir un réseau cnnet = CNNet() et tester sa fonction `forward` sur un batch du `trainset`.\n",
        "\n",
        "Afficher quel est le nombre de paramètres du réseau."
      ],
      "metadata": {
        "id": "-fFaKUnQoBPo"
      }
    },
    {
      "cell_type": "code",
      "source": [],
      "metadata": {
        "id": "OzbVEKc0oVqq"
      },
      "execution_count": null,
      "outputs": []
    },
    {
      "cell_type": "markdown",
      "metadata": {
        "id": "czxLOjJpImVp"
      },
      "source": [
        "##Entraînement du réseau"
      ]
    },
    {
      "cell_type": "markdown",
      "metadata": {
        "id": "JMSz4iH4H8ON"
      },
      "source": [
        "###Question 5 : \n",
        "\n"
      ]
    },
    {
      "cell_type": "markdown",
      "source": [
        "Proposer un script qui entraîne le réseau `cnnet` sur 10 epochs avec affichage à chaque epochs de l'\"epoch loss\" (moyenne des loss sur chaque batch considérés dans l'epoch, soit la \"running loss\" accumulée sur toute l'epoch) et du temps total de l'entraînement ( en s'aidant du module `time` par exemple). \n",
        "\n",
        "*Attention : le temps d'entraînement est plutôt long : entre 15 et 20 minutes. Contactez-moi si le temps d'entraînement est plus long.*"
      ],
      "metadata": {
        "id": "R4mQBDWRoMd7"
      }
    },
    {
      "cell_type": "code",
      "source": [],
      "metadata": {
        "id": "0F9QJRz6prRK"
      },
      "execution_count": null,
      "outputs": []
    },
    {
      "cell_type": "markdown",
      "metadata": {
        "id": "gTrG06YqKxNU"
      },
      "source": [
        "### Question 6 : \n"
      ]
    },
    {
      "cell_type": "markdown",
      "source": [
        "\n",
        "Expliquer la relation mathématique entre la sortie du réseau de neurones et la classe prédite par le réseau de neurone. Justifier cette formule.\n",
        "\n"
      ],
      "metadata": {
        "id": "KZ5gOx_xKHiX"
      }
    },
    {
      "cell_type": "markdown",
      "metadata": {
        "id": "NEeDRD39LMzW"
      },
      "source": [
        "### Question 7 :\n"
      ]
    },
    {
      "cell_type": "markdown",
      "source": [
        "A l'aide des fonctions de ```sklearn```utilisées dans le TP1, évaluer la performance du réseau entraîné (rapport de classification et matrice de confusion).\n",
        "\n",
        "Commenter les résultats"
      ],
      "metadata": {
        "id": "gWYzNf-6pMfi"
      }
    },
    {
      "cell_type": "code",
      "source": [],
      "metadata": {
        "id": "OLDHI_U9psMu"
      },
      "execution_count": null,
      "outputs": []
    },
    {
      "cell_type": "markdown",
      "metadata": {
        "id": "JnsGeSQKLjeB"
      },
      "source": [
        "## Comparaison avec un réseau à une couche cachée"
      ]
    },
    {
      "cell_type": "markdown",
      "metadata": {
        "id": "qCREf5WDLyr9"
      },
      "source": [
        "Pour finir nous allons comparer la performance du réseau CNN avec un réseau simple à une seule couche cachée.\n",
        "\n",
        "On va utiliser l'architecture suivante : \n",
        "\n",
        "* Une couche linéaire avec dimension de sortie 100, suivie d'une activation  ReLU.\n",
        "* Une couche linéaire finale permettant la classification."
      ]
    },
    {
      "cell_type": "markdown",
      "metadata": {
        "id": "lAu4vfJmMYc5"
      },
      "source": [
        "###Question 8 : \n"
      ]
    },
    {
      "cell_type": "markdown",
      "source": [
        "Définir une class `MLP` qui implémente le modèle décrit ci-dessus.\n",
        "\n",
        "Définir un réseau mlp = MLP() et tester sa fonction `forward` sur un batch du `trainset`.\n",
        "\n",
        "Afficher quel est le nombre de paramètres du réseau `mlp`. Commenter."
      ],
      "metadata": {
        "id": "AC7uNrIypXeZ"
      }
    },
    {
      "cell_type": "code",
      "source": [],
      "metadata": {
        "id": "7TpxHGM6ptkG"
      },
      "execution_count": null,
      "outputs": []
    },
    {
      "cell_type": "markdown",
      "metadata": {
        "id": "I8wiYKM6M9Bg"
      },
      "source": [
        "###Question 9 : \n",
        "\n"
      ]
    },
    {
      "cell_type": "markdown",
      "source": [
        "Adapter les scripts des questions 5 et 7 pour entraîner le réseau `mlp` et évaluer sa performance.\n",
        "\n",
        "Comparer les performances des deux réseaux entraînés."
      ],
      "metadata": {
        "id": "R12E5_Tqpc-4"
      }
    },
    {
      "cell_type": "code",
      "source": [],
      "metadata": {
        "id": "tKD1PvLSpvY_"
      },
      "execution_count": null,
      "outputs": []
    }
  ],
  "metadata": {
    "colab": {
      "provenance": []
    },
    "kernelspec": {
      "display_name": "Python 3",
      "language": "python",
      "name": "python3"
    },
    "language_info": {
      "codemirror_mode": {
        "name": "ipython",
        "version": 3
      },
      "file_extension": ".py",
      "mimetype": "text/x-python",
      "name": "python",
      "nbconvert_exporter": "python",
      "pygments_lexer": "ipython3",
      "version": "3.8.5"
    },
    "gpuClass": "standard"
  },
  "nbformat": 4,
  "nbformat_minor": 0
}